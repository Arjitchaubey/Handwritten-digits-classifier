{
  "nbformat": 4,
  "nbformat_minor": 0,
  "metadata": {
    "colab": {
      "provenance": []
    },
    "kernelspec": {
      "name": "python3",
      "display_name": "Python 3"
    },
    "language_info": {
      "name": "python"
    }
  },
  "cells": [
    {
      "cell_type": "code",
      "execution_count": 2,
      "metadata": {
        "colab": {
          "base_uri": "https://localhost:8080/"
        },
        "id": "LWES3BDJ4vp4",
        "outputId": "85bc5725-3f7b-47ea-c3d4-95398e466a4e"
      },
      "outputs": [
        {
          "output_type": "stream",
          "name": "stdout",
          "text": [
            "Collecting gTTS\n",
            "  Downloading gTTS-2.5.4-py3-none-any.whl.metadata (4.1 kB)\n",
            "Requirement already satisfied: requests<3,>=2.27 in /usr/local/lib/python3.11/dist-packages (from gTTS) (2.32.3)\n",
            "Collecting click<8.2,>=7.1 (from gTTS)\n",
            "  Downloading click-8.1.8-py3-none-any.whl.metadata (2.3 kB)\n",
            "Requirement already satisfied: charset-normalizer<4,>=2 in /usr/local/lib/python3.11/dist-packages (from requests<3,>=2.27->gTTS) (3.4.2)\n",
            "Requirement already satisfied: idna<4,>=2.5 in /usr/local/lib/python3.11/dist-packages (from requests<3,>=2.27->gTTS) (3.10)\n",
            "Requirement already satisfied: urllib3<3,>=1.21.1 in /usr/local/lib/python3.11/dist-packages (from requests<3,>=2.27->gTTS) (2.4.0)\n",
            "Requirement already satisfied: certifi>=2017.4.17 in /usr/local/lib/python3.11/dist-packages (from requests<3,>=2.27->gTTS) (2025.6.15)\n",
            "Downloading gTTS-2.5.4-py3-none-any.whl (29 kB)\n",
            "Downloading click-8.1.8-py3-none-any.whl (98 kB)\n",
            "\u001b[2K   \u001b[90m━━━━━━━━━━━━━━━━━━━━━━━━━━━━━━━━━━━━━━━━\u001b[0m \u001b[32m98.2/98.2 kB\u001b[0m \u001b[31m5.0 MB/s\u001b[0m eta \u001b[36m0:00:00\u001b[0m\n",
            "\u001b[?25hInstalling collected packages: click, gTTS\n",
            "  Attempting uninstall: click\n",
            "    Found existing installation: click 8.2.1\n",
            "    Uninstalling click-8.2.1:\n",
            "      Successfully uninstalled click-8.2.1\n",
            "Successfully installed click-8.1.8 gTTS-2.5.4\n"
          ]
        }
      ],
      "source": [
        "!pip install gTTS\n",
        "\n"
      ]
    },
    {
      "cell_type": "code",
      "source": [
        "# ------------------------------------------------------------------------\n",
        "# 1. Import Required Libraries\n",
        "# ------------------------------------------------------------------------\n",
        "\n",
        "import numpy as np\n",
        "import matplotlib.pyplot as plt\n",
        "import os\n",
        "from gtts import gTTS\n",
        "from tensorflow.keras.datasets import mnist\n",
        "from tensorflow.keras.models import Sequential\n",
        "from tensorflow.keras.layers import Conv2D, MaxPooling2D, Flatten, Dense, Dropout\n",
        "from tensorflow.keras.utils import to_categorical\n",
        "\n",
        "# ------------------------------------------------------------------------\n",
        "# 2. Load the MNIST Dataset\n",
        "# ------------------------------------------------------------------------\n",
        "\n",
        "(x_train, y_train), (x_test, y_test) = mnist.load_data()  # 60,000 train / 10,000 test\n",
        "\n",
        "# ------------------------------------------------------------------------\n",
        "# 3. Preprocess the Data\n",
        "# ------------------------------------------------------------------------\n",
        "\n",
        "# Normalize pixel values (0–255 to 0–1)\n",
        "x_train = x_train.astype(\"float32\") / 255.0\n",
        "x_test = x_test.astype(\"float32\") / 255.0\n",
        "\n",
        "# Reshape to match CNN input: (samples, height, width, channels)\n",
        "x_train = x_train.reshape(-1, 28, 28, 1)\n",
        "x_test = x_test.reshape(-1, 28, 28, 1)\n",
        "\n",
        "# Convert class vectors to one-hot encoded format\n",
        "y_train = to_categorical(y_train, 10)\n",
        "y_test = to_categorical(y_test, 10)\n",
        "\n",
        "# ------------------------------------------------------------------------\n",
        "# 4. Build the CNN Model\n",
        "# ------------------------------------------------------------------------\n",
        "\n",
        "model = Sequential()\n",
        "\n",
        "# I. First Convolutional Layer\n",
        "model.add(Conv2D(32, (3, 3), activation='relu', input_shape=(28, 28, 1)))\n",
        "\n",
        "# II. First MaxPooling Layer\n",
        "model.add(MaxPooling2D(pool_size=(2, 2)))\n",
        "\n",
        "# III. Second Convolutional + Pooling Layers\n",
        "model.add(Conv2D(64, (3, 3), activation='relu'))\n",
        "model.add(MaxPooling2D(pool_size=(2, 2)))\n",
        "\n",
        "# IV. Flattening Layer\n",
        "model.add(Flatten())\n",
        "\n",
        "# V. Fully Connected Layer with Dropout\n",
        "model.add(Dense(128, activation='relu'))\n",
        "model.add(Dropout(0.5))\n",
        "\n",
        "# VI. Output Layer\n",
        "model.add(Dense(10, activation='softmax'))  # 10 output classes (0-9)\n",
        "\n",
        "# ------------------------------------------------------------------------\n",
        "# 5. Compile the Model\n",
        "# ------------------------------------------------------------------------\n",
        "\n",
        "model.compile(optimizer='adam',\n",
        "              loss='categorical_crossentropy',\n",
        "              metrics=['accuracy'])\n",
        "\n",
        "# ------------------------------------------------------------------------\n",
        "# 6. Train the Model\n",
        "# ------------------------------------------------------------------------\n",
        "\n",
        "history = model.fit(x_train, y_train,\n",
        "                    validation_data=(x_test, y_test),\n",
        "                    epochs=2,\n",
        "                    batch_size=128)\n",
        "\n",
        "# ------------------------------------------------------------------------\n",
        "# 7. Evaluate the Model\n",
        "# ------------------------------------------------------------------------\n",
        "\n",
        "test_loss, test_accuracy = model.evaluate(x_test, y_test)\n",
        "print(f\"\\nTest Accuracy: {test_accuracy * 100:.2f}%\")\n",
        "\n",
        "# ------------------------------------------------------------------------\n",
        "# 8. Predict a Digit\n",
        "# ------------------------------------------------------------------------\n",
        "\n",
        "import random\n",
        "sample_index = random.randint(0, len(x_test) - 1)\n",
        "\n",
        "sample_image = x_test[sample_index].reshape(1, 28, 28, 1)\n",
        "predictions = model.predict(sample_image)\n",
        "predicted_class = np.argmax(predictions)\n",
        "\n",
        "# ------------------------------------------------------------------------\n",
        "# 9. Display the Predicted Digit\n",
        "# ------------------------------------------------------------------------\n",
        "\n",
        "plt.imshow(x_test[sample_index].reshape(28, 28), cmap='gray')\n",
        "plt.title(f\"Predicted Digit: {predicted_class}\")\n",
        "plt.axis('off')\n",
        "plt.show()\n",
        "\n",
        "# ------------------------------------------------------------------------\n",
        "# 10. Reproduce Digit via Audio using gTTS (Google Text-to-Speech)\n",
        "# ------------------------------------------------------------------------\n",
        "\n",
        "# Create a Google Text-to-Speech engine instance\n",
        "tts = gTTS(text=f\"The predicted digit is {predicted_class}\", lang='en')\n",
        "\n",
        "# Save the audio to a file\n",
        "tts.save(\"predicted_digit.mp3\")\n",
        "\n",
        "# Play the audio (downloads the file in Colab)\n",
        "os.system(\"mpg321 predicted_digit.mp3\")\n",
        "\n",
        "# To download the audio file (optional, in case you want to listen offline)\n",
        "from google.colab import files\n",
        "files.download(\"predicted_digit.mp3\")\n"
      ],
      "metadata": {
        "colab": {
          "base_uri": "https://localhost:8080/",
          "height": 656
        },
        "id": "MrJNeRBD5OIO",
        "outputId": "5f33689e-d17a-416b-855e-5e92d64e4574"
      },
      "execution_count": 3,
      "outputs": [
        {
          "output_type": "stream",
          "name": "stdout",
          "text": [
            "Downloading data from https://storage.googleapis.com/tensorflow/tf-keras-datasets/mnist.npz\n",
            "\u001b[1m11490434/11490434\u001b[0m \u001b[32m━━━━━━━━━━━━━━━━━━━━\u001b[0m\u001b[37m\u001b[0m \u001b[1m0s\u001b[0m 0us/step\n"
          ]
        },
        {
          "output_type": "stream",
          "name": "stderr",
          "text": [
            "/usr/local/lib/python3.11/dist-packages/keras/src/layers/convolutional/base_conv.py:107: UserWarning: Do not pass an `input_shape`/`input_dim` argument to a layer. When using Sequential models, prefer using an `Input(shape)` object as the first layer in the model instead.\n",
            "  super().__init__(activity_regularizer=activity_regularizer, **kwargs)\n"
          ]
        },
        {
          "output_type": "stream",
          "name": "stdout",
          "text": [
            "Epoch 1/2\n",
            "\u001b[1m469/469\u001b[0m \u001b[32m━━━━━━━━━━━━━━━━━━━━\u001b[0m\u001b[37m\u001b[0m \u001b[1m53s\u001b[0m 108ms/step - accuracy: 0.8053 - loss: 0.6113 - val_accuracy: 0.9812 - val_loss: 0.0600\n",
            "Epoch 2/2\n",
            "\u001b[1m469/469\u001b[0m \u001b[32m━━━━━━━━━━━━━━━━━━━━\u001b[0m\u001b[37m\u001b[0m \u001b[1m79s\u001b[0m 103ms/step - accuracy: 0.9683 - loss: 0.1036 - val_accuracy: 0.9863 - val_loss: 0.0414\n",
            "\u001b[1m313/313\u001b[0m \u001b[32m━━━━━━━━━━━━━━━━━━━━\u001b[0m\u001b[37m\u001b[0m \u001b[1m3s\u001b[0m 8ms/step - accuracy: 0.9841 - loss: 0.0491\n",
            "\n",
            "Test Accuracy: 98.63%\n",
            "\u001b[1m1/1\u001b[0m \u001b[32m━━━━━━━━━━━━━━━━━━━━\u001b[0m\u001b[37m\u001b[0m \u001b[1m0s\u001b[0m 110ms/step\n"
          ]
        },
        {
          "output_type": "display_data",
          "data": {
            "text/plain": [
              "<Figure size 640x480 with 1 Axes>"
            ],
            "image/png": "[encoded data removed]"
          },
          "metadata": {}
        },
        {
          "output_type": "display_data",
          "data": {
            "text/plain": [
              "<IPython.core.display.Javascript object>"
            ],
            "application/javascript": [
              "\n",
              "    async function download(id, filename, size) {\n",
              "      if (!google.colab.kernel.accessAllowed) {\n",
              "        return;\n",
              "      }\n",
              "      const div = document.createElement('div');\n",
              "      const label = document.createElement('label');\n",
              "      label.textContent = `Downloading \"${filename}\": `;\n",
              "      div.appendChild(label);\n",
              "      const progress = document.createElement('progress');\n",
              "      progress.max = size;\n",
              "      div.appendChild(progress);\n",
              "      document.body.appendChild(div);\n",
              "\n",
              "      const buffers = [];\n",
              "      let downloaded = 0;\n",
              "\n",
              "      const channel = await google.colab.kernel.comms.open(id);\n",
              "      // Send a message to notify the kernel that we're ready.\n",
              "      channel.send({})\n",
              "\n",
              "      for await (const message of channel.messages) {\n",
              "        // Send a message to notify the kernel that we're ready.\n",
              "        channel.send({})\n",
              "        if (message.buffers) {\n",
              "          for (const buffer of message.buffers) {\n",
              "            buffers.push(buffer);\n",
              "            downloaded += buffer.byteLength;\n",
              "            progress.value = downloaded;\n",
              "          }\n",
              "        }\n",
              "      }\n",
              "      const blob = new Blob(buffers, {type: 'application/binary'});\n",
              "      const a = document.createElement('a');\n",
              "      a.href = window.URL.createObjectURL(blob);\n",
              "      a.download = filename;\n",
              "      div.appendChild(a);\n",
              "      a.click();\n",
              "      div.remove();\n",
              "    }\n",
              "  "
            ]
          },
          "metadata": {}
        },
        {
          "output_type": "display_data",
          "data": {
            "text/plain": [
              "<IPython.core.display.Javascript object>"
            ],
            "application/javascript": [
              "download(\"download_5740564e-5ccf-4fd3-a403-9dda4c29b04d\", \"predicted_digit.mp3\", 18048)"
            ]
          },
          "metadata": {}
        }
      ]
    }
  ]
}